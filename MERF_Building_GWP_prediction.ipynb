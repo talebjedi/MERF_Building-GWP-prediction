{
  "cells": [
    {
      "cell_type": "markdown",
      "metadata": {
        "id": "Vac9xDLvMsk5"
      },
      "source": [
        "# Install packages"
      ]
    },
    {
      "cell_type": "code",
      "execution_count": 1,
      "metadata": {
        "id": "oZwxJPIQbFmY"
      },
      "outputs": [],
      "source": [
        "!pip install catboost\n",
        "!pip install bayesian-optimization\n",
        "!pip install merf\n",
        "!pip install shap"
      ]
    },
    {
      "cell_type": "markdown",
      "metadata": {
        "id": "V6g9TptVb7Ck"
      },
      "source": [
        "# Load packages"
      ]
    },
    {
      "cell_type": "code",
      "execution_count": null,
      "metadata": {
        "colab": {
          "base_uri": "https://localhost:8080/",
          "height": 374
        },
        "id": "eNRk3B17N7__",
        "outputId": "1aebb1df-0c7e-4610-956b-ab2a68cc1226"
      },
      "outputs": [
        {
          "output_type": "error",
          "ename": "ModuleNotFoundError",
          "evalue": "ignored",
          "traceback": [
            "\u001b[0;31m---------------------------------------------------------------------------\u001b[0m",
            "\u001b[0;31mModuleNotFoundError\u001b[0m                       Traceback (most recent call last)",
            "\u001b[0;32m<ipython-input-2-d47b0c14b673>\u001b[0m in \u001b[0;36m<module>\u001b[0;34m\u001b[0m\n\u001b[1;32m     32\u001b[0m \u001b[0;32mimport\u001b[0m \u001b[0mlightgbm\u001b[0m \u001b[0;32mas\u001b[0m \u001b[0mlgb\u001b[0m\u001b[0;34m\u001b[0m\u001b[0;34m\u001b[0m\u001b[0m\n\u001b[1;32m     33\u001b[0m \u001b[0;32mfrom\u001b[0m \u001b[0mlightgbm\u001b[0m \u001b[0;32mimport\u001b[0m \u001b[0mLGBMRegressor\u001b[0m\u001b[0;34m\u001b[0m\u001b[0;34m\u001b[0m\u001b[0m\n\u001b[0;32m---> 34\u001b[0;31m \u001b[0;32mfrom\u001b[0m \u001b[0mcatboost\u001b[0m \u001b[0;32mimport\u001b[0m \u001b[0mCatBoostRegressor\u001b[0m\u001b[0;34m\u001b[0m\u001b[0;34m\u001b[0m\u001b[0m\n\u001b[0m\u001b[1;32m     35\u001b[0m \u001b[0;32mimport\u001b[0m \u001b[0mcatboost\u001b[0m \u001b[0;32mas\u001b[0m \u001b[0mcgb\u001b[0m\u001b[0;34m\u001b[0m\u001b[0;34m\u001b[0m\u001b[0m\n\u001b[1;32m     36\u001b[0m \u001b[0;34m\u001b[0m\u001b[0m\n",
            "\u001b[0;31mModuleNotFoundError\u001b[0m: No module named 'catboost'",
            "",
            "\u001b[0;31m---------------------------------------------------------------------------\u001b[0;32m\nNOTE: If your import is failing due to a missing package, you can\nmanually install dependencies using either !pip or !apt.\n\nTo view examples of installing some common dependencies, click the\n\"Open Examples\" button below.\n\u001b[0;31m---------------------------------------------------------------------------\u001b[0m\n"
          ],
          "errorDetails": {
            "actions": [
              {
                "action": "open_url",
                "actionText": "Open Examples",
                "url": "/notebooks/snippets/importing_libraries.ipynb"
              }
            ]
          }
        }
      ],
      "source": [
        "%matplotlib inline\n",
        "\n",
        "import seaborn as sn\n",
        "from matplotlib import rcParams\n",
        "rcParams.update({'figure.autolayout': True})\n",
        "\n",
        "my_seed=11\n",
        "\n",
        "import pandas as pd\n",
        "pd.set_option('display.max_columns', None)\n",
        "import matplotlib.pyplot as plt\n",
        "import numpy as np\n",
        "np.random.seed(my_seed)\n",
        "import re\n",
        "import random\n",
        "random.seed(my_seed)\n",
        "\n",
        "from sklearn.model_selection import train_test_split\n",
        "from sklearn.preprocessing import StandardScaler\n",
        "from sklearn.preprocessing import OneHotEncoder\n",
        "from sklearn.preprocessing import LabelEncoder\n",
        "from scipy.sparse import hstack\n",
        "\n",
        "from sklearn.model_selection import KFold\n",
        "from sklearn.model_selection import RandomizedSearchCV\n",
        "from sklearn.model_selection import GridSearchCV\n",
        "from sklearn.metrics import r2_score\n",
        "from sklearn.metrics import mean_squared_error\n",
        "from math import sqrt\n",
        "\n",
        "from sklearn.ensemble import RandomForestRegressor\n",
        "import lightgbm as lgb\n",
        "from lightgbm import LGBMRegressor\n",
        "from catboost import CatBoostRegressor\n",
        "import catboost as cgb\n",
        "\n",
        "from bayes_opt import BayesianOptimization\n",
        "\n",
        "from statistics import mean\n",
        "\n",
        "import warnings\n",
        "warnings.filterwarnings(\"ignore\")\n",
        "\n",
        "from sklearn.inspection import plot_partial_dependence\n",
        "\n",
        "import pickle\n",
        "from merf.merf import MERF\n",
        "import shap\n",
        "shap.initjs()\n",
        "\n",
        "import io\n",
        "import os\n",
        "import shutil\n",
        "from typing import List, Dict, Tuple, Union"
      ]
    },
    {
      "cell_type": "markdown",
      "metadata": {
        "id": "0t_IKjN4-eIO"
      },
      "source": [
        "# 0. Define helper functions"
      ]
    },
    {
      "cell_type": "markdown",
      "metadata": {
        "id": "uKjVbLK5-kAd"
      },
      "source": [
        "## 0.1 Define a function for **feature encoding**"
      ]
    },
    {
      "cell_type": "code",
      "execution_count": null,
      "metadata": {
        "id": "k4SUxxqcxOh3"
      },
      "outputs": [],
      "source": [
        "def feat_encoder(all_features: pd.DataFrame, num_feat_names: List, cat_feat_names: List, target: pd.DataFrame, rand_seed: int, retain_cat=False,**kwargs):\n",
        "    \"\"\"may want to try target encoding later\"\"\"\n",
        "\n",
        "    features = all_features.copy()\n",
        "\n",
        "    \"\"\"check if there is any feature that needs to be dropped\"\"\"\n",
        "    try:\n",
        "        features.drop(kwargs['col_to_drop'],axis=1,inplace=True)\n",
        "    except KeyError:\n",
        "        pass\n",
        "    \n",
        "    # update numeric and categorical feature list\n",
        "    num_feat_names = list(set(num_feat_names).intersection (set(list(features.columns))))\n",
        "    cat_feat_names = list(set(cat_feat_names).intersection (set(list(features.columns))))\n",
        "    \n",
        "    # if exception for ohe is provided, leave out the corresponding feature(s): these feature(s) will not be encoded\n",
        "    if 'ohe_exception_lst' in kwargs.keys():\n",
        "        for ohe_except in kwargs['ohe_exception_lst']:\n",
        "            cat_feat_names.remove(ohe_except)\n",
        "          \n",
        "    \n",
        "    \"\"\"separate train,test datasets\"\"\"\n",
        "    X_train,X_test,y_train,y_test=train_test_split(features,target,random_state=rand_seed)\n",
        "    #print (X_train.head())\n",
        "    \n",
        "    \"\"\"Standardize numerical feature\"\"\"\n",
        "    #ss=StandardScaler()\n",
        "    #X_train[num_feat_names]=ss.fit_transform(X_train[num_feat_names])\n",
        "    #X_test[num_feat_names]=ss.transform(X_test[num_feat_names])\n",
        "\n",
        "    # check if need to retain categorical variables as-is: [CAUTION] this will retain ALL categorical features as-is, not individually\n",
        "    if not(retain_cat):\n",
        "        #print (cat_feat_names)\n",
        "        \"\"\"do label encoding for split data sets\"\"\"\n",
        "        le=LabelEncoder()\n",
        "        for col in cat_feat_names:\n",
        "            if X_train[col].dtype == 'object':\n",
        "                X_train[col] = le.fit_transform(X_train[col])\n",
        "                X_test[col] = le.transform(X_test[col]) \n",
        "                integer_mapping = {l: i for i, l in enumerate(le.classes_)} #https://stackoverflow.com/questions/50834820/get-the-label-mappings-from-label-encoder\n",
        "                print (f\"mapping of label encoding for {col} is: \", integer_mapping, \"\\n\")\n",
        "\n",
        "        \"\"\"OneHot Encoding for categorical features\"\"\"\n",
        "        # if some categorical feature only need label encoding, drop them from cat_feat_names before ohe\n",
        "        if 'le_only_lst' in kwargs:\n",
        "            for feat in kwargs['le_only_lst']:\n",
        "                cat_feat_names.remove(feat)\n",
        "        \n",
        "        ohe = OneHotEncoder(handle_unknown='ignore')\n",
        "        tmp_X_train_category = ohe.fit_transform(X_train[cat_feat_names]).toarray()\n",
        "        ohe_col_names = ohe.get_feature_names(cat_feat_names) #get encoded column names\n",
        "        X_train = pd.concat([X_train.reset_index(),pd.DataFrame(tmp_X_train_category,columns=ohe_col_names)],axis=1)\n",
        "        tmp_X_test_category = ohe.transform(X_test[cat_feat_names]).toarray() #transform the corresponding col in X_test\n",
        "        X_test = pd.concat([X_test.reset_index(),pd.DataFrame(tmp_X_test_category,columns=ohe_col_names)],axis=1)\n",
        "            \n",
        "        ##remove original features\n",
        "        X_train.drop(cat_feat_names,axis=1,inplace=True)\n",
        "        X_test.drop(cat_feat_names,axis=1,inplace=True)\n",
        "        \n",
        "        ##drop the 'index' column\n",
        "        X_train.drop('index',axis=1,inplace=True)\n",
        "        X_test.drop('index',axis=1,inplace=True)\n",
        "\n",
        "\n",
        "        final_col_names = list(ohe_col_names) + list(num_feat_names) #obtain the names of all encoded features\n",
        "        final_cat_feat_names = list(ohe_col_names)\n",
        "    else:\n",
        "        final_col_names = cat_feat_names + num_feat_names #obtain the names of all encoded features\n",
        "        final_cat_feat_names = cat_feat_names\n",
        "        \n",
        "    print (f\"shape of X_train_encoded and X_test_encoded are: \", (X_train.shape, X_test.shape),\"\\n\")\n",
        "    print (f\"shape of y_train and y_test are: \", (y_train.shape, y_test.shape),\"\\n\")\n",
        "    print (\"cat features\", final_cat_feat_names,\"\\n\")\n",
        "    print (\"final features\",final_col_names,\"\\n\")\n",
        "    \n",
        "\n",
        "    return X_train,X_test,y_train,y_test,final_cat_feat_names,final_col_names"
      ]
    },
    {
      "cell_type": "markdown",
      "metadata": {
        "id": "9ugklGKfSx8o"
      },
      "source": [
        "## 0.2 Define a function for training multiple models"
      ]
    },
    {
      "cell_type": "code",
      "execution_count": null,
      "metadata": {
        "id": "KZrTK2GhS3J8"
      },
      "outputs": [],
      "source": [
        "# can try 'storm tuner' library later: https://medium.com/geekculture/finding-best-hyper-parameters-for-deep-learning-model-4df7a17546c2\n",
        "\n",
        "def multi_model(model_algorithm_dataset_dict: Dict, rand_seed: int, default_hyper_params=True, n_iter=1, **kwargs):\n",
        "    \"\"\" prepare some variables \"\"\"\n",
        "    r2_model_FeatImportance_dict={} # a dict { r2: (model_name, feature_importance) }\n",
        "    \n",
        "    if default_hyper_params:    \n",
        "        \"\"\" loop over all models \"\"\"\n",
        "        for model_name, algorithm_data_tuple in model_algorithm_dataset_dict.items():\n",
        "            \"\"\" loop over iterations \"\"\"\n",
        "            for i in range(n_iter):\n",
        "                \"\"\" loop over all datasets (i.e., multiple datasets can be fed to this function to train model) \"\"\"        \n",
        "                for j in range(len(algorithm_data_tuple[1])): \n",
        "                    # prepare the train and test data\n",
        "                    X = algorithm_data_tuple[1][j][0] #2nd element in 'algorithm_data_tuple' is the (j) nested lists of [d_base[X_train,X_test,y_train,y_test,final_cat_feat_names],...\n",
        "                                                    #,d_geo4]; assign X_train to X\n",
        "                    y = algorithm_data_tuple[1][j][2] #assign y_train to y\n",
        "                    X_test = algorithm_data_tuple[1][j][1] \n",
        "                    y_test = algorithm_data_tuple[1][j][3]\n",
        "                    cat_feat_names = algorithm_data_tuple[1][j][4]\n",
        "                    final_col_names = algorithm_data_tuple[1][j][5]\n",
        "\n",
        "                    # specify the categorical features, if CatGB is selected\n",
        "                    if model_name == 'CatBoostRegressor':\n",
        "                        categorical_features_indices = [X.columns.get_loc(cat_feat) for cat_feat in cat_feat_names]\n",
        "                    \n",
        "                    # create an object, fit (k-fold validation) and make prediction\n",
        "                    regr_obj = algorithm_data_tuple[0] #1st element in 'algorithm_data_tuple' is the actual algorithm            \n",
        "                    kf = KFold(random_state=rand_seed, shuffle=True)\n",
        "                    score_lst = []\n",
        "\n",
        "                    # k-fold validation\n",
        "                    for train_ix, test_ix in kf.split(X):\n",
        "                        X_train_tmp, X_test_tmp = X.iloc[train_ix], X.iloc[test_ix]\n",
        "                        y_train_tmp, y_test_tmp = y.iloc[train_ix], y.iloc[test_ix]\n",
        "\n",
        "                        # fit the model\n",
        "                        try: #if CatGB is selected\n",
        "                            regr_obj.fit(X_train_tmp,y_train_tmp,cat_features=categorical_features_indices)\n",
        "                        except:\n",
        "                            regr_obj.fit(X_train_tmp,y_train_tmp)\n",
        "\n",
        "                        # make prediction and add score to the list \n",
        "                        score_lst.append(r2_score(y_test_tmp,regr_obj.predict(X_test_tmp)))\n",
        "\n",
        "                        # print out the average training score\n",
        "                        print (\"Default hyperparams, out of \", len(score_lst), \"folds, \", f\"average r2 of {model_name} from K-Fold validation is: \",mean(score_lst),\"\\n\")\n",
        "\n",
        "                    # pickle the model\n",
        "                    pkl_filename = f\"pickle_{model_name}_{j}th dataset.pkl\"\n",
        "                    with open(pkl_filename, 'wb') as file:\n",
        "                        pickle.dump(regr_obj, file)\n",
        "                        \n",
        "                    # store the test score\n",
        "                    r2_test = r2_score(y_test, regr_obj.predict(X_test))\n",
        "                    # store the score on entire dataset\n",
        "                    X_reunited = pd.concat([X,X_test])\n",
        "                    y_reunited = pd.concat([y,y_test])\n",
        "                    r2_whole = r2_score(y_reunited,regr_obj.predict(X_reunited))\n",
        "                    \n",
        "                    # get feature importance from the best model\n",
        "                    feat_importances = pd.Series(regr_obj.feature_importances_ , index=final_col_names)\n",
        "                    #print (feat_importances)\n",
        "                        \n",
        "                    print (f\"{i}th iteration, {j}th dataset, the test r2 of {model_name} is: \", r2_test,\"\\n\")\n",
        "                    print (f\"{i}th iteration, {j}th dataset, the r2 of {model_name} on ENTIRE dataset is: \", r2_whole,\"\\n\")\n",
        "                    print (f\"{i}th iteration, {j}th dataset, the AVERAGE groundtruth value of {model_name} is: \", np.average(y_test),\"\\n\")\n",
        "                    print (f\"{i}th iteration, {j}th dataset, the AVERAGE predicted value of {model_name} is: \", np.average(regr_obj.predict(X_test)),\"\\n\")\n",
        "                    print (f\"{i}th iteration, {j}th dataset, the RMSE of {model_name} is: \", sqrt(mean_squared_error(y_test,regr_obj.predict(X_test))),\"\\n\"\"\\n\")\n",
        "                    # /////\n",
        "                    # plt.plot(regr_obj.predict(X_test))\n",
        "                   \n",
        "                    if model_name == 'RandomForestRegressor':\n",
        "                      fig = plt.figure(\"RandomForestRegressor\")\n",
        "                      plt.title({model_name})\n",
        "                      y_test=y_test.reset_index(drop=True, inplace=False)\n",
        "                      # print(y_test)\n",
        "                      plt.plot(y_test)\n",
        "                      plt.plot(regr_obj.predict(X_test))\n",
        "                    if model_name == 'CatBoostRegressor':\n",
        "                      fig = plt.figure(\"CatBoostRegressor\")\n",
        "                      plt.title({model_name})\n",
        "                      y_test=y_test.reset_index(drop=True, inplace=False)\n",
        "                      # print(y_test)\n",
        "                      plt.plot(y_test)\n",
        "                      plt.plot(regr_obj.predict(X_test))\n",
        "                    if model_name == 'LGBMRegressor':\n",
        "                      fig = plt.figure(\"LGBMRegressor\")\n",
        "                      plt.title({model_name})\n",
        "                      y_test=y_test.reset_index(drop=True, inplace=False)\n",
        "                      # print(y_test)\n",
        "                      plt.plot(y_test)\n",
        "                      plt.plot(regr_obj.predict(X_test))\n",
        "                    # print(regr_obj.predict(X_test))\n",
        "                    # print('y_test!!!!!', type(y_test))\n",
        "                    # print('y_predict!!!!!', type(regr_obj.predict(X_test)))\n",
        "                    # print('y_predict shape!!!!!', regr_obj.predict(X_test).shape())\n",
        "\n",
        "                    \n",
        "\n",
        "                    # print(regr_obj.predict(X_test).shape)\n",
        "                    \n",
        "                    # ///////\n",
        "                    # add information\n",
        "                    r2_model_FeatImportance_dict[r2_test] = (model_name,f\"{j}th dataset\",feat_importances,pkl_filename, [X,y])\n",
        "                    #print ( r2_model_FeatImportance_dict)\n",
        "                    \n",
        "    else:    \n",
        "        \"\"\" with hyperparams tuning \"\"\"\n",
        "        assert isinstance(kwargs['hyperparams_range_dict'],dict) #check if the nested dict { model_name1: {hparam1: x, hparam2: y,...hparamX: z},... } is provided\n",
        "        \n",
        "        \"\"\" loop over all models \"\"\"\n",
        "        for model_name, algorithm_data_tuple in model_algorithm_dataset_dict.items():\n",
        "            \n",
        "            # special handling for CatGB\n",
        "            if model_name == 'CatBoostRegressor':\n",
        "                \"\"\"define a helper function for CatGB\"\"\"\n",
        "                def hyp_cat(depth,bagging_temperature):\n",
        "                    params={'iterations':300,\n",
        "                            'learning_rate':0.05,\n",
        "                            'eval_metric': 'R2',\n",
        "                            'verbose':False,    \n",
        "                    }\n",
        "\n",
        "                    params['depth']=int(round(depth))\n",
        "                    params['bagging_temperature']=bagging_temperature\n",
        "                    params['loss_function']= \"RMSE\"\n",
        "                    scores_cgb=cgb.cv(cv_dataset,params,fold_count=5)\n",
        "                    \n",
        "                    return np.max(scores_cgb['test-R2-mean'])\n",
        "                    \n",
        "                # prepare other variables\n",
        "                pds={'depth': kwargs['hyperparams_range_dict']['CatBoostRegressor']['depth'],\n",
        "                     'bagging_temperature':kwargs['hyperparams_range_dict']['CatBoostRegressor']['bagging_temperature'],\n",
        "                    }\n",
        "                print( kwargs['hyperparams_range_dict']['CatBoostRegressor']['depth'])\n",
        "                \n",
        "\n",
        "\n",
        "            \"\"\" loop over iterations \"\"\"\n",
        "            for i in range(n_iter):   \n",
        "                \"\"\"loop over all datasets (i.e., base, cluster, geoclass6, geoclass3,geoclass4)\"\"\"        \n",
        "                for j in range(len(algorithm_data_tuple[1])): \n",
        "                    # prepare the train and test data\n",
        "                    X_train = algorithm_data_tuple[1][j][0] #2nd element in 'algorithm_data_tuple' is the (j) nested lists of [d_base[X_train,X_test,y_train,y_test,final_cat_feat_names],...\n",
        "                                                    #,d_geo4]; \n",
        "                    y_train = algorithm_data_tuple[1][j][2] \n",
        "                    X_test = algorithm_data_tuple[1][j][1] \n",
        "                    y_test = algorithm_data_tuple[1][j][3]\n",
        "                    cat_feat_names = algorithm_data_tuple[1][j][4]\n",
        "                    final_col_names = algorithm_data_tuple[1][j][5]\n",
        "\n",
        "                    # special handling for CatGB\n",
        "                    if model_name == 'CatBoostRegressor':\n",
        "                        categorical_features_indices = [X_train.columns.get_loc(cat_feat) for cat_feat in cat_feat_names]\n",
        "                        cv_dataset = cgb.Pool(data=X_train,label=y_train,cat_features=categorical_features_indices)\n",
        "                        #internal_params_CatGB={k:v for k,v in kwargs['hyperparams_range_dict']['CatBoostRegressor'].items() if k in ['iterations','learning_rate','eval_metric',\n",
        "                                                                                                                          #'verbose']}\n",
        "                        #create an optimizer model\n",
        "                        optimizer = BayesianOptimization(hyp_cat,pds) #hyp_cat and pds are defined where 'model_name' is first identified\n",
        "\n",
        "                        #optimize\n",
        "                        try:\n",
        "                            optimizer.maximize(init_points=3,n_iter=7)\n",
        "                            best_params = optimizer.max['params']\n",
        "                            print (\"Hyperparams of the best model: \", best_params)\n",
        "                        except ValueError as err:\n",
        "                            print (f\"{err}\")\n",
        "                            print (\"The following is skpped: \",\"\\n\", f\"{i}th iteration, {j}th dataset, {model_name}\",\"\\n\")\n",
        "                            continue\n",
        "                        \n",
        "                        # create the CatGB object with optimal hyperparams\n",
        "                        # [caution] make sure 'verbose' and 'n_estimators' have the same values as those in no hyperparams tuning case\n",
        "                        regr_obj = CatBoostRegressor(random_state=rand_seed,verbose=0,n_estimators=2000,bagging_temperature=optimizer.max['params']['bagging_temperature'],depth=int(round(optimizer.max['params']['depth'])))\n",
        "\n",
        "                        # fit the model\n",
        "                        regr_obj.fit(X_train,y_train,cat_features=categorical_features_indices)\n",
        "                    else:\n",
        "                        # create an object and make prediction\n",
        "                        regr_obj = algorithm_data_tuple[0] #1st element in 'algorithm_data_tuple' is the actual algorithm \n",
        "\n",
        "                        # do the random search CV\n",
        "                        regr_obj_random = RandomizedSearchCV(estimator = regr_obj, param_distributions = kwargs['hyperparams_range_dict'][model_name], \n",
        "                                                             n_iter = 100, cv = 5, scoring='r2',verbose=2, random_state=rand_seed, n_jobs = -1)\n",
        "                        regr_obj_random.fit(X_train,y_train)\n",
        "\n",
        "                        # assign the best model back to regr_obj\n",
        "                        regr_obj = regr_obj_random.best_estimator_\n",
        "                        best_params  =regr_obj_random.best_params_ #save the hyperparams of the best model\n",
        "                        print (\"Hyperparams of the best model: \", best_params)\n",
        "                        \n",
        "                        # do the training based on the best model\n",
        "                        regr_obj.fit(X_train,y_train)\n",
        "                        \n",
        "                    # pickle the model\n",
        "                    pkl_filename = f\"pickle_{model_name}_{j}th dataset.pkl\"\n",
        "                    with open(pkl_filename, 'wb') as file:\n",
        "                        pickle.dump(regr_obj, file)\n",
        "                        \n",
        "                    # get feature importance from the best model\n",
        "                    feat_importances = pd.Series(regr_obj.feature_importances_ , index=final_col_names)\n",
        "\n",
        "                    # store the test score\n",
        "                    r2_test = r2_score(y_test, regr_obj.predict(X_test))\n",
        "                    # store the score on entire dataset\n",
        "                    X_reunited = pd.concat([X_train,X_test])\n",
        "                    y_reunited = pd.concat([y_train,y_test])\n",
        "                    r2_whole = r2_score(y_reunited,regr_obj.predict(X_reunited))\n",
        "                    \n",
        "                    print (f\"{i}th iteration, {j}th dataset, the test r2 of {model_name} is: \", r2_test,\"\\n\")\n",
        "                    print (f\"{i}th iteration, {j}th dataset, the r2 of {model_name} on ENTIRE dataset is: \", r2_whole,\"\\n\")\n",
        "                    print (f\"{i}th iteration, {j}th dataset, the AVERAGE groundtruth value of {model_name} is: \", np.average(y_test),\"\\n\")\n",
        "                    print (f\"{i}th iteration, {j}th dataset, the AVERAGE predicted value of {model_name} is: \", np.average(regr_obj.predict(X_test)),\"\\n\")\n",
        "                    print (f\"{i}th iteration, {j}th dataset, the RMSE of {model_name} is: \", sqrt(mean_squared_error(y_test,regr_obj.predict(X_test))),\"\\n\"\"\\n\")\n",
        "                    if model_name == 'RandomForestRegressor':\n",
        "                      fig = plt.figure(\"RandomForestRegressor\")\n",
        "                      plt.title({model_name})\n",
        "                      y_test=y_test.reset_index(drop=True, inplace=False)\n",
        "                      # print(y_test)\n",
        "                      plt.plot(y_test)\n",
        "                      plt.plot(regr_obj.predict(X_test))\n",
        "                    if model_name == 'CatBoostRegressor':\n",
        "                      fig = plt.figure(\"CatBoostRegressor\")\n",
        "                      plt.title({model_name})\n",
        "                      y_test=y_test.reset_index(drop=True, inplace=False)\n",
        "                      # print(y_test)\n",
        "                      plt.plot(y_test)\n",
        "                      plt.plot(regr_obj.predict(X_test))\n",
        "                    if model_name == 'LGBMRegressor':\n",
        "                      fig = plt.figure(\"LGBMRegressor\")\n",
        "                      plt.title({model_name})\n",
        "                      y_test=y_test.reset_index(drop=True, inplace=False)\n",
        "                      # print(y_test)\n",
        "                      plt.plot(y_test)\n",
        "                      plt.plot(regr_obj.predict(X_test))\n",
        "\n",
        "                    ##add information\n",
        "                    r2_model_FeatImportance_dict[r2_test]=(model_name,f\"{j}th dataset\",feat_importances,pkl_filename,[X_train,y_train])\n",
        "       \n",
        "    \n",
        "    # \"\"\" feature importance from best model \"\"\"\n",
        "    # # identify the feature importance from the best model\n",
        "    # tmp_r2 = 0\n",
        "    # for r2 in list(r2_model_FeatImportance_dict.keys()):\n",
        "    #     tmp_r2 = max(tmp_r2,r2)\n",
        "    # model_w_highest_r2 = r2_model_FeatImportance_dict[tmp_r2][0] #points to 'model_name'\n",
        "    # data_set_w_highest_r2 = r2_model_FeatImportance_dict[tmp_r2][1] #points to corresponding 'jth dataset'\n",
        "    # feat_importances_best = r2_model_FeatImportance_dict[tmp_r2][2] #points to corresponding 'feat_importances'\n",
        "    # best_pickle_name = r2_model_FeatImportance_dict[tmp_r2][3] #points to the name of the pickled best model\n",
        "    # best_train_Xy_data = r2_model_FeatImportance_dict[tmp_r2][4] #points to the [X_train, y_train] data that was used to train the best model\n",
        "    # #print (feat_importances_best)\n",
        "\n",
        "    # # save the best performing model\n",
        "    # src = os.path.sep.join([os.getcwd(),f\"{best_pickle_name}\"])\n",
        "    # dst = os.path.sep.join([os.getcwd(),f\"BEST_performing_model.pkl\"])\n",
        "    # shutil.copy(src,dst)\n",
        "   \n",
        "    \n",
        "    # # plot and save the feature importance\n",
        "    # print (f\"the feature importance (top 15) of the model with highest r2 ({tmp_r2}), {model_w_highest_r2} & {data_set_w_highest_r2}, is shown below: \\n\")\n",
        "    # feat_importances_best.nlargest(15).plot(kind='barh')\n",
        "    \n",
        "    # fig = feat_importances_best.nlargest(15).plot(kind='barh').get_figure()\n",
        "    # fig.savefig('feature_importance from best model.png')\n",
        "    \n",
        "    \n",
        "    \"\"\" partial dependence plot from best model \n",
        "    # prepare best model\n",
        "    best_model = pickle.load(open(best_pickle_name, 'rb'))\n",
        "    #print (f\"r2 of PICKLED BEST model using ALL of its own training dataset: \",r2_score(best_train_Xy_data[1],best_model.predict(best_train_Xy_data[0])),\"\\n\")\n",
        "    \n",
        "    #[Caution] seems you'll have to fit the loaded model for CatBoost again before using PDP (no such a need for RF or LightGBM)\n",
        "    #best_model.fit( best_train_Xy_data[0], best_train_Xy_data[1])-->this won't work for CatBoost, as it does not use the standard sklearn API\n",
        "    \n",
        "    # plot PDP using PDP plot from sklearn\n",
        "    plot_partial_dependence(best_model,  best_train_Xy_data[0], list(feat_importances_best.index),n_jobs=-1, grid_resolution=20)\n",
        "    \n",
        "\n",
        "    \n",
        "    # adjust size, display and save figure\n",
        "    fig=plt.gcf()\n",
        "    fig.set_size_inches(16,10)\n",
        "    print (f\"Partial dependence plot for {model_w_highest_r2} & {data_set_w_highest_r2} is shown below: \\n\")\n",
        "    fig.subplots_adjust(wspace=0.2, hspace=0.3)\n",
        "    fig.savefig(f\"PDP from best model_{model_w_highest_r2} & {data_set_w_highest_r2}.png\")\n",
        "    \"\"\""
      ]
    },
    {
      "cell_type": "markdown",
      "metadata": {
        "id": "HqWhrhLQdY1m"
      },
      "source": [
        "# 1.0 Data **pre-processsing**"
      ]
    },
    {
      "cell_type": "code",
      "execution_count": null,
      "metadata": {
        "id": "DHtAWr0zdajU",
        "colab": {
          "base_uri": "https://localhost:8080/",
          "height": 257
        },
        "outputId": "56770d6f-642a-4e39-faa1-f96d1d9093d6"
      },
      "outputs": [
        {
          "output_type": "display_data",
          "data": {
            "text/plain": [
              "<IPython.core.display.HTML object>"
            ],
            "text/html": [
              "\n",
              "     <input type=\"file\" id=\"files-aeecab3f-9a0e-4fa7-8448-2ef4ca562cd1\" name=\"files[]\" multiple disabled\n",
              "        style=\"border:none\" />\n",
              "     <output id=\"result-aeecab3f-9a0e-4fa7-8448-2ef4ca562cd1\">\n",
              "      Upload widget is only available when the cell has been executed in the\n",
              "      current browser session. Please rerun this cell to enable.\n",
              "      </output>\n",
              "      <script>// Copyright 2017 Google LLC\n",
              "//\n",
              "// Licensed under the Apache License, Version 2.0 (the \"License\");\n",
              "// you may not use this file except in compliance with the License.\n",
              "// You may obtain a copy of the License at\n",
              "//\n",
              "//      http://www.apache.org/licenses/LICENSE-2.0\n",
              "//\n",
              "// Unless required by applicable law or agreed to in writing, software\n",
              "// distributed under the License is distributed on an \"AS IS\" BASIS,\n",
              "// WITHOUT WARRANTIES OR CONDITIONS OF ANY KIND, either express or implied.\n",
              "// See the License for the specific language governing permissions and\n",
              "// limitations under the License.\n",
              "\n",
              "/**\n",
              " * @fileoverview Helpers for google.colab Python module.\n",
              " */\n",
              "(function(scope) {\n",
              "function span(text, styleAttributes = {}) {\n",
              "  const element = document.createElement('span');\n",
              "  element.textContent = text;\n",
              "  for (const key of Object.keys(styleAttributes)) {\n",
              "    element.style[key] = styleAttributes[key];\n",
              "  }\n",
              "  return element;\n",
              "}\n",
              "\n",
              "// Max number of bytes which will be uploaded at a time.\n",
              "const MAX_PAYLOAD_SIZE = 100 * 1024;\n",
              "\n",
              "function _uploadFiles(inputId, outputId) {\n",
              "  const steps = uploadFilesStep(inputId, outputId);\n",
              "  const outputElement = document.getElementById(outputId);\n",
              "  // Cache steps on the outputElement to make it available for the next call\n",
              "  // to uploadFilesContinue from Python.\n",
              "  outputElement.steps = steps;\n",
              "\n",
              "  return _uploadFilesContinue(outputId);\n",
              "}\n",
              "\n",
              "// This is roughly an async generator (not supported in the browser yet),\n",
              "// where there are multiple asynchronous steps and the Python side is going\n",
              "// to poll for completion of each step.\n",
              "// This uses a Promise to block the python side on completion of each step,\n",
              "// then passes the result of the previous step as the input to the next step.\n",
              "function _uploadFilesContinue(outputId) {\n",
              "  const outputElement = document.getElementById(outputId);\n",
              "  const steps = outputElement.steps;\n",
              "\n",
              "  const next = steps.next(outputElement.lastPromiseValue);\n",
              "  return Promise.resolve(next.value.promise).then((value) => {\n",
              "    // Cache the last promise value to make it available to the next\n",
              "    // step of the generator.\n",
              "    outputElement.lastPromiseValue = value;\n",
              "    return next.value.response;\n",
              "  });\n",
              "}\n",
              "\n",
              "/**\n",
              " * Generator function which is called between each async step of the upload\n",
              " * process.\n",
              " * @param {string} inputId Element ID of the input file picker element.\n",
              " * @param {string} outputId Element ID of the output display.\n",
              " * @return {!Iterable<!Object>} Iterable of next steps.\n",
              " */\n",
              "function* uploadFilesStep(inputId, outputId) {\n",
              "  const inputElement = document.getElementById(inputId);\n",
              "  inputElement.disabled = false;\n",
              "\n",
              "  const outputElement = document.getElementById(outputId);\n",
              "  outputElement.innerHTML = '';\n",
              "\n",
              "  const pickedPromise = new Promise((resolve) => {\n",
              "    inputElement.addEventListener('change', (e) => {\n",
              "      resolve(e.target.files);\n",
              "    });\n",
              "  });\n",
              "\n",
              "  const cancel = document.createElement('button');\n",
              "  inputElement.parentElement.appendChild(cancel);\n",
              "  cancel.textContent = 'Cancel upload';\n",
              "  const cancelPromise = new Promise((resolve) => {\n",
              "    cancel.onclick = () => {\n",
              "      resolve(null);\n",
              "    };\n",
              "  });\n",
              "\n",
              "  // Wait for the user to pick the files.\n",
              "  const files = yield {\n",
              "    promise: Promise.race([pickedPromise, cancelPromise]),\n",
              "    response: {\n",
              "      action: 'starting',\n",
              "    }\n",
              "  };\n",
              "\n",
              "  cancel.remove();\n",
              "\n",
              "  // Disable the input element since further picks are not allowed.\n",
              "  inputElement.disabled = true;\n",
              "\n",
              "  if (!files) {\n",
              "    return {\n",
              "      response: {\n",
              "        action: 'complete',\n",
              "      }\n",
              "    };\n",
              "  }\n",
              "\n",
              "  for (const file of files) {\n",
              "    const li = document.createElement('li');\n",
              "    li.append(span(file.name, {fontWeight: 'bold'}));\n",
              "    li.append(span(\n",
              "        `(${file.type || 'n/a'}) - ${file.size} bytes, ` +\n",
              "        `last modified: ${\n",
              "            file.lastModifiedDate ? file.lastModifiedDate.toLocaleDateString() :\n",
              "                                    'n/a'} - `));\n",
              "    const percent = span('0% done');\n",
              "    li.appendChild(percent);\n",
              "\n",
              "    outputElement.appendChild(li);\n",
              "\n",
              "    const fileDataPromise = new Promise((resolve) => {\n",
              "      const reader = new FileReader();\n",
              "      reader.onload = (e) => {\n",
              "        resolve(e.target.result);\n",
              "      };\n",
              "      reader.readAsArrayBuffer(file);\n",
              "    });\n",
              "    // Wait for the data to be ready.\n",
              "    let fileData = yield {\n",
              "      promise: fileDataPromise,\n",
              "      response: {\n",
              "        action: 'continue',\n",
              "      }\n",
              "    };\n",
              "\n",
              "    // Use a chunked sending to avoid message size limits. See b/62115660.\n",
              "    let position = 0;\n",
              "    do {\n",
              "      const length = Math.min(fileData.byteLength - position, MAX_PAYLOAD_SIZE);\n",
              "      const chunk = new Uint8Array(fileData, position, length);\n",
              "      position += length;\n",
              "\n",
              "      const base64 = btoa(String.fromCharCode.apply(null, chunk));\n",
              "      yield {\n",
              "        response: {\n",
              "          action: 'append',\n",
              "          file: file.name,\n",
              "          data: base64,\n",
              "        },\n",
              "      };\n",
              "\n",
              "      let percentDone = fileData.byteLength === 0 ?\n",
              "          100 :\n",
              "          Math.round((position / fileData.byteLength) * 100);\n",
              "      percent.textContent = `${percentDone}% done`;\n",
              "\n",
              "    } while (position < fileData.byteLength);\n",
              "  }\n",
              "\n",
              "  // All done.\n",
              "  yield {\n",
              "    response: {\n",
              "      action: 'complete',\n",
              "    }\n",
              "  };\n",
              "}\n",
              "\n",
              "scope.google = scope.google || {};\n",
              "scope.google.colab = scope.google.colab || {};\n",
              "scope.google.colab._files = {\n",
              "  _uploadFiles,\n",
              "  _uploadFilesContinue,\n",
              "};\n",
              "})(self);\n",
              "</script> "
            ]
          },
          "metadata": {}
        },
        {
          "output_type": "stream",
          "name": "stdout",
          "text": [
            "Saving EU-ECB_dataset_feature_engineered.csv to EU-ECB_dataset_feature_engineered.csv\n"
          ]
        },
        {
          "output_type": "error",
          "ename": "NameError",
          "evalue": "ignored",
          "traceback": [
            "\u001b[0;31m---------------------------------------------------------------------------\u001b[0m",
            "\u001b[0;31mNameError\u001b[0m                                 Traceback (most recent call last)",
            "\u001b[0;32m<ipython-input-1-5781a05436c2>\u001b[0m in \u001b[0;36m<module>\u001b[0;34m\u001b[0m\n\u001b[1;32m      5\u001b[0m \u001b[0muploaded\u001b[0m \u001b[0;34m=\u001b[0m \u001b[0mfiles\u001b[0m\u001b[0;34m.\u001b[0m\u001b[0mupload\u001b[0m\u001b[0;34m(\u001b[0m\u001b[0;34m)\u001b[0m\u001b[0;34m\u001b[0m\u001b[0;34m\u001b[0m\u001b[0m\n\u001b[1;32m      6\u001b[0m \u001b[0;34m\u001b[0m\u001b[0m\n\u001b[0;32m----> 7\u001b[0;31m \u001b[0mraw_all\u001b[0m \u001b[0;34m=\u001b[0m \u001b[0mpd\u001b[0m\u001b[0;34m.\u001b[0m\u001b[0mread_csv\u001b[0m\u001b[0;34m(\u001b[0m\u001b[0mfile_name\u001b[0m\u001b[0;34m)\u001b[0m\u001b[0;34m\u001b[0m\u001b[0;34m\u001b[0m\u001b[0m\n\u001b[0m",
            "\u001b[0;31mNameError\u001b[0m: name 'pd' is not defined"
          ]
        }
      ],
      "source": [
        "file_name = 'EU-ECB_dataset_feature_engineered.csv' # file name MUST match the file selected for upload\n",
        "\n",
        "# load data file from local drive\n",
        "from google.colab import files\n",
        "uploaded = files.upload()\n",
        "\n",
        "raw_all = pd.read_csv(file_name)"
      ]
    },
    {
      "cell_type": "code",
      "execution_count": null,
      "metadata": {
        "id": "APJKINKgDjLy"
      },
      "outputs": [],
      "source": [
        "# convert data file into dataframe\n",
        "# raw_all = pd.read_csv(io.BytesIO(uploaded[file_name]))"
      ]
    },
    {
      "cell_type": "code",
      "execution_count": null,
      "metadata": {
        "id": "rWosCLL-KKjK"
      },
      "outputs": [],
      "source": [
        "print(raw_all.shape)\n",
        "raw_all.keys()\n",
        "print(type(raw_all))"
      ]
    },
    {
      "cell_type": "markdown",
      "metadata": {
        "id": "04FaOI6Bf0S6"
      },
      "source": [
        "## 1.1 Feature screening and engineering"
      ]
    },
    {
      "cell_type": "code",
      "execution_count": null,
      "metadata": {
        "id": "cYzh3Re2ffQB"
      },
      "outputs": [],
      "source": [
        "raw_all.head()"
      ]
    },
    {
      "cell_type": "code",
      "source": [
        "raw_all.columns"
      ],
      "metadata": {
        "id": "rLJJhUk-kZC5"
      },
      "execution_count": null,
      "outputs": []
    },
    {
      "cell_type": "markdown",
      "source": [
        "### **Define the scope of analysis**"
      ],
      "metadata": {
        "id": "HMXiotEEVFgx"
      }
    },
    {
      "cell_type": "code",
      "execution_count": null,
      "metadata": {
        "id": "CrLyZJ1nCe-7"
      },
      "outputs": [],
      "source": [
        "\"\"\" define the scope of analysis \"\"\"\n",
        "raw_df = raw_all[raw_all.bldg_project_status.isin(['New Built', 'In use'])]\n",
        "\n",
        "# Sub-sets\n",
        "raw_df_DK = raw_df[raw_df.site_country.isin(['Denmark']) & raw_df.admin_project_contact.isin(['BUILD', 'Ramboll'])]\n",
        "raw_df_FR = raw_df[raw_df.site_country.isin(['France']) & raw_df.admin_project_contact.isin(['CSTB'])]\n",
        "raw_df_BE = raw_df[raw_df.site_country.isin(['Belgium']) & raw_df.admin_project_contact.isin(['KU Leuven'])]\n",
        "raw_df_NL = raw_df[raw_df.site_country.isin(['Netherlands']) & raw_df.admin_project_contact.isin(['NIBE'])]\n",
        "raw_df_FI = raw_df[raw_df.site_country.isin(['Finland']) & raw_df.admin_project_contact.isin(['Granlund Oy', 'Bionova'])]\n",
        "\n",
        "raw_df_A72 = raw_df[raw_df.admin_project_contact.isin(['ROECK-et-al', 'AMIRI-et-al'])]\n",
        "\n",
        "raw_df_EUECB = raw_df_DK.append([raw_df_FR, raw_df_BE, raw_df_NL, raw_df_FI])\n",
        "\n",
        "# assign final sub-set to raw_df for further processing\n",
        "raw_df = raw_df_EUECB"
      ]
    },
    {
      "cell_type": "code",
      "source": [
        "raw_df"
      ],
      "metadata": {
        "id": "vuFf4KGsGFBC"
      },
      "execution_count": null,
      "outputs": []
    },
    {
      "cell_type": "code",
      "source": [
        "print(raw_df_DK.shape)\n",
        "print(raw_df.shape)"
      ],
      "metadata": {
        "id": "DRJnTgEy1U1n"
      },
      "execution_count": null,
      "outputs": []
    },
    {
      "cell_type": "code",
      "source": [
        "# print(type(raw_df_DK))\n",
        "# print(raw_df_DK.head())"
      ],
      "metadata": {
        "id": "fAjCPEEMTY5i"
      },
      "execution_count": null,
      "outputs": []
    },
    {
      "cell_type": "code",
      "source": [
        "target_col_set = {col for col  in raw_df.columns if col.startswith('GHG')}\n",
        "missing_data_percent_dict = {col: raw_df[col].isnull().sum()/len(raw_df[col]) for col in target_col_set }\n",
        "print(target_col_set)\n",
        "missing_threshold = 0.5\n",
        "target_col_set_retained = {col for col in target_col_set if missing_data_percent_dict[col] <= missing_threshold}\n",
        "print(target_col_set_retained)\n",
        "print(list(target_col_set-target_col_set_retained))"
      ],
      "metadata": {
        "id": "u9smDFSkCcTI"
      },
      "execution_count": null,
      "outputs": []
    },
    {
      "cell_type": "markdown",
      "source": [
        "## **Decide target column(s) to keep**"
      ],
      "metadata": {
        "id": "f47RkR7KXt4K"
      }
    },
    {
      "cell_type": "code",
      "execution_count": null,
      "metadata": {
        "id": "ph2HUet3f93-"
      },
      "outputs": [],
      "source": [
        "\"\"\" decide target column(s) to keep \"\"\"\n",
        "# remove the columns with too much missing data\n",
        "target_col_set = {col for col  in raw_df.columns if col.startswith('GHG')}\n",
        "missing_data_percent_dict = {col: raw_df[col].isnull().sum()/len(raw_df[col]) for col in target_col_set }\n",
        "print(missing_data_percent_dict)\n",
        "missing_threshold = 0.5\n",
        "target_col_set_retained = {col for col in target_col_set if missing_data_percent_dict[col] <= missing_threshold}\n",
        "#print(target_col_set_retained)\n",
        "\n",
        "# update the dataframe\n",
        "data_updated = raw_df.drop(list(target_col_set-target_col_set_retained), axis=1)\n",
        "print([col for col in data_updated.columns if col.startswith('GHG')])"
      ]
    },
    {
      "cell_type": "markdown",
      "source": [
        "## **Decide feature columns to keep**"
      ],
      "metadata": {
        "id": "xOHtBEzCYCeF"
      }
    },
    {
      "cell_type": "code",
      "execution_count": null,
      "metadata": {
        "id": "y2ZLbky4qhn7"
      },
      "outputs": [],
      "source": [
        "\"\"\" decide feature columns to keep \"\"\"\n",
        "# remove the columns with too much missing data\n",
        "feat_col_set = {col for col in data_updated.columns if col not in target_col_set_retained}\n",
        "feat_col_set_retained = {col for col in feat_col_set if data_updated[col].isnull().sum()/len(data_updated[col]) <= missing_threshold}\n",
        "#print(feat_col_set_retained)\n",
        "\n",
        "# further screening\n",
        "# further_removal_set = {'admin_','site_country','scope_','lca_database','lca_software'}\n",
        "further_removal_set = {'admin_','scope_','lca_database','lca_software'}\n",
        "\n",
        "for start_str in further_removal_set:\n",
        "  feat_col_set_retained = {col for col in feat_col_set_retained if not col.startswith(start_str)}\n",
        "\n",
        "# update the dataframe\n",
        "data_updated = data_updated.drop(list(feat_col_set-feat_col_set_retained), axis=1)\n",
        "\n",
        "# exam the retained features\n",
        "data_updated"
      ]
    },
    {
      "cell_type": "code",
      "source": [
        "type(data_updated)"
      ],
      "metadata": {
        "id": "Cijn7VhtLdYt"
      },
      "execution_count": null,
      "outputs": []
    },
    {
      "cell_type": "code",
      "execution_count": null,
      "metadata": {
        "id": "JGKiXo4Usi32"
      },
      "outputs": [],
      "source": [
        "# correlation screening\n",
        "# a python package to remove collinearity: https://towardsdatascience.com/a-python-library-to-remove-collinearity-5a4eb05d3d73\n",
        "\n",
        "# variance screening\n",
        "\n",
        "# remove the rows containing NaN in feature and/or target columns\n",
        "data_updated.dropna(inplace=True)\n",
        "data_updated\n",
        "\n",
        "# create a dict to store dtype of each column\n",
        "dtype_dict = {col: data_updated[col].dtype for col in data_updated.columns}\n",
        "dtype_dict"
      ]
    },
    {
      "cell_type": "code",
      "source": [
        "data_updated.shape"
      ],
      "metadata": {
        "id": "i9sw7cgQVkMF"
      },
      "execution_count": null,
      "outputs": []
    },
    {
      "cell_type": "markdown",
      "source": [
        "### **MIXED EFFECT RANDOM FOREST (MERF)**"
      ],
      "metadata": {
        "id": "9JtZrWdwgqdX"
      }
    },
    {
      "cell_type": "code",
      "source": [
        "features_=data_updated[list(feat_col_set_retained)]\n",
        "cat_feat_names=[col for col in features_.columns if data_updated[col].dtype == 'object']\n",
        "num_feat_names=[feat for feat in features_.columns if feat not in cat_feat_names]\n",
        "target_=data_updated['GHG_sum_em']\n",
        "\n",
        "# get data into a list\n",
        "X_train,X_test,y_train,y_test,final_cat_feat_names,final_col_names = feat_encoder(features_,num_feat_names,cat_feat_names,\n",
        "                                                           target_,rand_seed=my_seed,ohe_exception_lst=['site_country'], retain_cat=False) #set retain_cat=True if wanting to use catboost, include cat features in analysis\n",
        "## merge train and test datasets...\n",
        "train_merged=pd.concat([X_train,y_train.reset_index(drop=True)],axis=1)\n",
        "train_merged['site_country'].replace(['France','Denmark','Finland','Belgium','Netherlands'],[1,2,3,4,5], inplace=True)\n",
        "# train_merged.head()\n",
        "\n",
        "test_merged=pd.concat([X_test,y_test.reset_index(drop=True)],axis=1)\n",
        "test_merged['site_country'].replace(['France','Denmark','Finland','Belgium','Netherlands'],[1,2,3,4,5], inplace=True)\n",
        "\n",
        "# test_merged.head()\n",
        "\n"
      ],
      "metadata": {
        "id": "DVVlaXdXhCV6"
      },
      "execution_count": null,
      "outputs": []
    },
    {
      "cell_type": "code",
      "source": [
        "train_merged.head()"
      ],
      "metadata": {
        "id": "qlZcOORb4Cay"
      },
      "execution_count": null,
      "outputs": []
    },
    {
      "cell_type": "code",
      "source": [
        "test_merged.head()"
      ],
      "metadata": {
        "id": "2tAF0-P5lhz2"
      },
      "execution_count": null,
      "outputs": []
    },
    {
      "cell_type": "code",
      "source": [
        "type(train_merged)"
      ],
      "metadata": {
        "colab": {
          "base_uri": "https://localhost:8080/"
        },
        "id": "v-HhW2Mt0qzb",
        "outputId": "9e35daab-d6a3-47ec-d620-47ab3d876ce3"
      },
      "execution_count": null,
      "outputs": [
        {
          "output_type": "execute_result",
          "data": {
            "text/plain": [
              "pandas.core.frame.DataFrame"
            ]
          },
          "metadata": {},
          "execution_count": 18
        }
      ]
    },
    {
      "cell_type": "code",
      "source": [
        "\"\"\" data preparation \"\"\"\n",
        "## training data\n",
        "train_col_to_drop=['GHG_sum_em']\n",
        "\n",
        "X_train_input=train_merged.drop(train_col_to_drop,axis=1)\n",
        "\n",
        "\n",
        "X_train_input=train_merged\n",
        "Z_train = np.ones((len(train_merged), 1))\n",
        "clusters_train=train_merged['site_country']\n",
        "y_train_input=train_merged['GHG_sum_em']\n",
        "\n",
        "## test data\n",
        "X_test_input=test_merged\n",
        "Z_test = np.ones((len(test_merged), 1))\n",
        "clusters_test=test_merged['site_country']\n",
        "y_test_input=test_merged['GHG_sum_em']"
      ],
      "metadata": {
        "id": "9s53SSxghXWC"
      },
      "execution_count": null,
      "outputs": []
    },
    {
      "cell_type": "code",
      "source": [
        "clusters_train.unique()"
      ],
      "metadata": {
        "colab": {
          "base_uri": "https://localhost:8080/"
        },
        "id": "-c6XKB5_l3j6",
        "outputId": "378146e6-7cb4-4069-a7ba-896534523680"
      },
      "execution_count": null,
      "outputs": [
        {
          "output_type": "execute_result",
          "data": {
            "text/plain": [
              "array([1])"
            ]
          },
          "metadata": {},
          "execution_count": 23
        }
      ]
    },
    {
      "cell_type": "code",
      "source": [
        "\"\"\" training \"\"\"\n",
        "## reset random seed\n",
        "np.random.seed(my_seed)\n",
        "random.seed(my_seed)\n",
        "\n",
        "## do KFold on training X and y data\n",
        "mrf = MERF() #max_iterations=100\n",
        "cv = KFold(n_splits=5, shuffle=True)\n",
        "score_lst=[]\n",
        "\n",
        "for train_ix, test_ix in cv.split(X_train_input):\n",
        "    X_train_tmp,X_test_tmp=X_train_input.iloc[train_ix],X_train_input.iloc[test_ix]\n",
        "    Z_train_tmp,Z_test_tmp=Z_train[train_ix],Z_train[test_ix]\n",
        "    clusters_train_tmp,clusters_test_tmp=clusters_train.iloc[train_ix],clusters_train.iloc[test_ix]\n",
        "    y_train_tmp,y_test_tmp=y_train_input.iloc[train_ix],y_train_input.iloc[test_ix]\n",
        "     \n",
        "    # fit model\n",
        "    mrf.fit(X_train_tmp, Z_train_tmp, clusters_train_tmp, y_train_tmp)\n",
        "\n",
        "    # make prediction and add score to the list \n",
        "    score_lst.append(r2_score(y_test_tmp,mrf.predict(X_test_tmp,Z_test_tmp, clusters_test_tmp)))\n",
        "\n",
        "    # print out the average training score\n",
        "    print (\"Default hyperparams, out of \", len(score_lst), \"folds, \", \"average r2 of MERF from K-Fold validation is: \",mean(score_lst),\"\\n\")\n"
      ],
      "metadata": {
        "colab": {
          "base_uri": "https://localhost:8080/"
        },
        "id": "9Wt0GYsthskR",
        "outputId": "bd071d5e-b61f-41b3-c89a-565d0b4879ef"
      },
      "execution_count": null,
      "outputs": [
        {
          "output_type": "stream",
          "name": "stdout",
          "text": [
            "Default hyperparams, out of  1 folds,  average r2 of MERF from K-Fold validation is:  0.970145328921568 \n",
            "\n",
            "Default hyperparams, out of  2 folds,  average r2 of MERF from K-Fold validation is:  0.9805191782694787 \n",
            "\n",
            "Default hyperparams, out of  3 folds,  average r2 of MERF from K-Fold validation is:  0.9472573709950574 \n",
            "\n",
            "Default hyperparams, out of  4 folds,  average r2 of MERF from K-Fold validation is:  0.959538201185484 \n",
            "\n",
            "Default hyperparams, out of  5 folds,  average r2 of MERF from K-Fold validation is:  0.9460029817710621 \n",
            "\n"
          ]
        }
      ]
    },
    {
      "cell_type": "code",
      "source": [
        "\"\"\" test \"\"\"\n",
        "r2_test=r2_score(y_test_input, mrf.predict(X_test_input, Z_test,clusters_test))\n",
        "print (\"test r2 on test samples is: \", r2_test,\"\\n\")\n",
        "print (\"the AVERAGE groundtruth value is: \", np.average(y_test_input),\"\\n\")\n",
        "print (\"the AVERAGE predicted value is: \", np.average(mrf.predict(X_test_input, Z_test,clusters_test)),\"\\n\")\n",
        "print (\"the RMSE: \", sqrt(mean_squared_error(y_test_input,mrf.predict(X_test_input, Z_test,clusters_test))),\"\\n\"\"\\n\")\n",
        "print (\"the Mean Absolute percentage Error (MAPE): \", np.average(100*abs((y_test_input-mrf.predict(X_test_input, Z_test,clusters_test))/y_test_input)),\"\\n\"\"\\n\")\n"
      ],
      "metadata": {
        "colab": {
          "base_uri": "https://localhost:8080/"
        },
        "id": "kUjz_5UOiQHQ",
        "outputId": "a2ce1ccb-92f5-45bc-f087-5b5ab3d30e27"
      },
      "execution_count": null,
      "outputs": [
        {
          "output_type": "stream",
          "name": "stdout",
          "text": [
            "test r2 on test samples is:  0.762442926697394 \n",
            "\n",
            "the AVERAGE groundtruth value is:  508506.5656250001 \n",
            "\n",
            "the AVERAGE predicted value is:  407962.4222494003 \n",
            "\n",
            "the RMSE:  369250.2685504421 \n",
            "\n",
            "\n",
            "the Mean Absolute percentage Error (MAPE):  10.835105110038683 \n",
            "\n",
            "\n"
          ]
        }
      ]
    },
    {
      "cell_type": "markdown",
      "source": [
        "# **Plot (MERF)**"
      ],
      "metadata": {
        "id": "OLu9ISrB1qsj"
      }
    },
    {
      "cell_type": "code",
      "source": [
        "fig = plt.figure(\"Mixed Effect Random Forest (MERF)\")\n",
        "plt.title(\"Mixed Effect Random Forest (MERF)\")\n",
        "# y_test=y_test.reset_index(drop=True, inplace=False)\n",
        "# print(y_test)\n",
        "plt.plot(y_test_input)\n",
        "plt.plot(mrf.predict(X_test_input, Z_test,clusters_test))"
      ],
      "metadata": {
        "colab": {
          "base_uri": "https://localhost:8080/",
          "height": 315
        },
        "id": "Izp2POSw1qCi",
        "outputId": "f0c022f0-c027-4f4d-8ec1-7009f0991af6"
      },
      "execution_count": null,
      "outputs": [
        {
          "output_type": "execute_result",
          "data": {
            "text/plain": [
              "[<matplotlib.lines.Line2D at 0x7fa5cf675d90>]"
            ]
          },
          "metadata": {},
          "execution_count": 22
        },
        {
          "output_type": "display_data",
          "data": {
            "text/plain": [
              "<Figure size 432x288 with 1 Axes>"
            ],
            "image/png": "[encoded data removed]"
          },
          "metadata": {
            "needs_background": "light"
          }
        }
      ]
    }
  ],
  "metadata": {
    "colab": {
      "provenance": []
    },
    "kernelspec": {
      "display_name": "Python 3",
      "name": "python3"
    },
    "language_info": {
      "name": "python"
    }
  },
  "nbformat": 4,
  "nbformat_minor": 0
}